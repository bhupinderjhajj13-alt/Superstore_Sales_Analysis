{
 "cells": [
  {
   "cell_type": "markdown",
   "id": "564d6f71-75a7-44bc-8269-0dfdb6c96456",
   "metadata": {},
   "source": [
    "Superstore Sales Analysis "
   ]
  },
  {
   "cell_type": "markdown",
   "id": "61cf7af4-9d1c-46e8-9aba-d9da31e8f3d3",
   "metadata": {},
   "source": [
    "Importing Libraries"
   ]
  },
  {
   "cell_type": "code",
   "execution_count": 92,
   "id": "bc7b7bf2-d53a-4382-85f6-fd16c9429303",
   "metadata": {},
   "outputs": [],
   "source": [
    "import pandas as pd\n",
    "import seaborn as sns\n",
    "import matplotlib.pyplot as plt"
   ]
  },
  {
   "cell_type": "code",
   "execution_count": 3,
   "id": "513efcbf-3889-4a63-9c9b-53d6236fc455",
   "metadata": {},
   "outputs": [],
   "source": [
    "df = pd.read_csv(\"Superstore_1.0.csv\",encoding='latin-1')\n"
   ]
  },
  {
   "cell_type": "markdown",
   "id": "50017344-cd5c-4648-9ef6-8fb6af593eea",
   "metadata": {},
   "source": [
    "Making df's copy"
   ]
  },
  {
   "cell_type": "code",
   "execution_count": null,
   "id": "87f1da02-53eb-4f54-ad3f-9957a116aa19",
   "metadata": {},
   "outputs": [],
   "source": [
    "df_copy = df.copy()"
   ]
  },
  {
   "cell_type": "markdown",
   "id": "94694a16-9fa3-499b-988a-acc708c01130",
   "metadata": {},
   "source": [
    "Data Summery of Superstore.csv"
   ]
  },
  {
   "cell_type": "markdown",
   "id": "a18a571c-7625-4958-9d5f-d65ccd2ebeb2",
   "metadata": {},
   "source": [
    "This data is about Superstore sales. That contain 21 columns - \n",
    "Row ID , Order ID , Order Date , Ship Date , Ship Mode , Customer ID , Customer Name , Segment , Country , City , State , Postal Code , Region , Product ID , Category , Sub-Category , Product Name , Sales , Quantity , Discount , Profit\n"
   ]
  },
  {
   "cell_type": "markdown",
   "id": "ebe85946-e906-4dec-a8fb-e7fe1572703c",
   "metadata": {},
   "source": [
    "Mistakes in data - \n",
    "1. Column - Order Date and Ship Date have obj dtype"
   ]
  },
  {
   "cell_type": "markdown",
   "id": "22116585-e474-40cb-ae9e-4bfc47f1b3cc",
   "metadata": {},
   "source": [
    "Type caste into date"
   ]
  },
  {
   "cell_type": "code",
   "execution_count": 11,
   "id": "9fb31272-845c-4e6a-8dd5-8a72a7779fc7",
   "metadata": {},
   "outputs": [],
   "source": [
    "df['Order Date'] = pd.to_datetime(df['Order Date'])\n",
    "df['Ship Date'] = pd.to_datetime(df['Ship Date'])"
   ]
  },
  {
   "cell_type": "markdown",
   "id": "42fa7ee5-77d4-4a28-9cdf-22e71f7379e0",
   "metadata": {},
   "source": [
    "some function to check data"
   ]
  },
  {
   "cell_type": "code",
   "execution_count": 18,
   "id": "2a5eba7a-7a0a-4ed3-9223-fa05aee0d612",
   "metadata": {},
   "outputs": [],
   "source": [
    "print(df.describe())\n",
    "print(df.info())\n",
    "df.isnull().sum()\n",
    "df.sample(5)\n"
   ]
  },
  {
   "cell_type": "markdown",
   "id": "a768235b-f9bf-4f3d-bcbf-d594aff4d2c3",
   "metadata": {},
   "source": [
    "To check whether there are any invaild dates"
   ]
  },
  {
   "cell_type": "code",
   "execution_count": null,
   "id": "757ec6ef-bc00-4bfb-9e1b-bbf0e4e147ae",
   "metadata": {},
   "outputs": [],
   "source": [
    "\n",
    "Invalid_dates = df['Order Date'] > df['Ship Date']\n",
    "df[Invalid_dates]"
   ]
  },
  {
   "cell_type": "code",
   "execution_count": 87,
   "id": "85c53576-1fa8-4254-8c13-801ac54ada09",
   "metadata": {},
   "outputs": [
    {
     "data": {
      "text/html": [
       "<div>\n",
       "<style scoped>\n",
       "    .dataframe tbody tr th:only-of-type {\n",
       "        vertical-align: middle;\n",
       "    }\n",
       "\n",
       "    .dataframe tbody tr th {\n",
       "        vertical-align: top;\n",
       "    }\n",
       "\n",
       "    .dataframe thead th {\n",
       "        text-align: right;\n",
       "    }\n",
       "</style>\n",
       "<table border=\"1\" class=\"dataframe\">\n",
       "  <thead>\n",
       "    <tr style=\"text-align: right;\">\n",
       "      <th></th>\n",
       "      <th>Row ID</th>\n",
       "      <th>Order ID</th>\n",
       "      <th>Order Date</th>\n",
       "      <th>Ship Date</th>\n",
       "      <th>Ship Mode</th>\n",
       "      <th>Customer ID</th>\n",
       "      <th>Customer Name</th>\n",
       "      <th>Segment</th>\n",
       "      <th>Country</th>\n",
       "      <th>City</th>\n",
       "      <th>...</th>\n",
       "      <th>Postal Code</th>\n",
       "      <th>Region</th>\n",
       "      <th>Product ID</th>\n",
       "      <th>Category</th>\n",
       "      <th>Sub-Category</th>\n",
       "      <th>Product Name</th>\n",
       "      <th>Sales</th>\n",
       "      <th>Quantity</th>\n",
       "      <th>Discount</th>\n",
       "      <th>Profit</th>\n",
       "    </tr>\n",
       "  </thead>\n",
       "  <tbody>\n",
       "    <tr>\n",
       "      <th>0</th>\n",
       "      <td>1</td>\n",
       "      <td>CA-2016-152156</td>\n",
       "      <td>2016-11-08</td>\n",
       "      <td>2016-11-11</td>\n",
       "      <td>Second Class</td>\n",
       "      <td>CG-12520</td>\n",
       "      <td>Claire Gute</td>\n",
       "      <td>Consumer</td>\n",
       "      <td>United States</td>\n",
       "      <td>Henderson</td>\n",
       "      <td>...</td>\n",
       "      <td>42420</td>\n",
       "      <td>South</td>\n",
       "      <td>FUR-BO-10001798</td>\n",
       "      <td>Furniture</td>\n",
       "      <td>Bookcases</td>\n",
       "      <td>Bush Somerset Collection Bookcase</td>\n",
       "      <td>261.96</td>\n",
       "      <td>2</td>\n",
       "      <td>0.0</td>\n",
       "      <td>41.9136</td>\n",
       "    </tr>\n",
       "    <tr>\n",
       "      <th>1</th>\n",
       "      <td>2</td>\n",
       "      <td>CA-2016-152156</td>\n",
       "      <td>2016-11-08</td>\n",
       "      <td>2016-11-11</td>\n",
       "      <td>Second Class</td>\n",
       "      <td>CG-12520</td>\n",
       "      <td>Claire Gute</td>\n",
       "      <td>Consumer</td>\n",
       "      <td>United States</td>\n",
       "      <td>Henderson</td>\n",
       "      <td>...</td>\n",
       "      <td>42420</td>\n",
       "      <td>South</td>\n",
       "      <td>FUR-CH-10000454</td>\n",
       "      <td>Furniture</td>\n",
       "      <td>Chairs</td>\n",
       "      <td>Hon Deluxe Fabric Upholstered Stacking Chairs,...</td>\n",
       "      <td>731.94</td>\n",
       "      <td>3</td>\n",
       "      <td>0.0</td>\n",
       "      <td>219.5820</td>\n",
       "    </tr>\n",
       "  </tbody>\n",
       "</table>\n",
       "<p>2 rows × 21 columns</p>\n",
       "</div>"
      ],
      "text/plain": [
       "   Row ID        Order ID Order Date  Ship Date     Ship Mode Customer ID  \\\n",
       "0       1  CA-2016-152156 2016-11-08 2016-11-11  Second Class    CG-12520   \n",
       "1       2  CA-2016-152156 2016-11-08 2016-11-11  Second Class    CG-12520   \n",
       "\n",
       "  Customer Name   Segment        Country       City  ... Postal Code  Region  \\\n",
       "0   Claire Gute  Consumer  United States  Henderson  ...       42420   South   \n",
       "1   Claire Gute  Consumer  United States  Henderson  ...       42420   South   \n",
       "\n",
       "        Product ID   Category Sub-Category  \\\n",
       "0  FUR-BO-10001798  Furniture    Bookcases   \n",
       "1  FUR-CH-10000454  Furniture       Chairs   \n",
       "\n",
       "                                        Product Name   Sales  Quantity  \\\n",
       "0                  Bush Somerset Collection Bookcase  261.96         2   \n",
       "1  Hon Deluxe Fabric Upholstered Stacking Chairs,...  731.94         3   \n",
       "\n",
       "   Discount    Profit  \n",
       "0       0.0   41.9136  \n",
       "1       0.0  219.5820  \n",
       "\n",
       "[2 rows x 21 columns]"
      ]
     },
     "execution_count": 87,
     "metadata": {},
     "output_type": "execute_result"
    }
   ],
   "source": [
    "df.head(2)"
   ]
  },
  {
   "cell_type": "markdown",
   "id": "0e85bb35-cd56-47b1-83a8-e9fd3e32c0ec",
   "metadata": {},
   "source": [
    "Summaries Data - \n",
    "    Total Sales , \n",
    "    avg order value , \n",
    "    top Selling Products\n"
   ]
  },
  {
   "cell_type": "code",
   "execution_count": 88,
   "id": "c4567f1e-38a5-47ec-a657-eb3a605a11ec",
   "metadata": {},
   "outputs": [
    {
     "name": "stdout",
     "output_type": "stream",
     "text": [
      "\t Superstore \n",
      "Total Sales - 2297201.0 USD \n",
      "Total Profit - 286397.0 USD\n",
      "The avg order price - 230.0 USD \n",
      "Top selling Category - Technology\n",
      "Top selling Sub Category - Phones\n",
      "Top Selling Product - Canon imageCLASS 2200 Advanced Copier \n",
      "Top Selling City - New York City\n"
     ]
    }
   ],
   "source": [
    "Total_sales = (df['Sales'].sum()).round()\n",
    "\n",
    "Total_profit = (df['Profit'].sum()).round()\n",
    "\n",
    "avg_value = (df['Sales'].mean()).round()\n",
    "\n",
    "Top_selling_Category = (df.groupby(['Category'])['Sales'].sum()).idxmax()\n",
    "\n",
    "Top_selling_sub_category = (df.groupby(['Sub-Category'])['Sales'].sum()).idxmax()\n",
    "\n",
    "Top_selling_product = (df.groupby(['Product Name'])['Sales'].sum()).idxmax()\n",
    "\n",
    "Top_selling_city = (df.groupby(['City'])['Sales'].sum()).idxmax()\n",
    "\n",
    "print(f\"\"\"\\t Superstore \\nTotal Sales - {Total_sales} USD \n",
    "Total Profit - {Total_profit} USD\n",
    "The avg order price - {avg_value} USD \n",
    "Top selling Category - {Top_selling_Category}\n",
    "Top selling Sub Category - {Top_selling_sub_category}\n",
    "Top Selling Product - {Top_selling_product} \n",
    "Top Selling City - {Top_selling_city}\"\"\")\n"
   ]
  },
  {
   "cell_type": "markdown",
   "id": "e751619f-d483-4914-9ff5-916843630d40",
   "metadata": {},
   "source": [
    "-----------------------------------"
   ]
  },
  {
   "cell_type": "markdown",
   "id": "bede3933-6a4b-4031-8ccb-8df4c0b34d9d",
   "metadata": {},
   "source": [
    "Correlation between discount and profit"
   ]
  },
  {
   "cell_type": "code",
   "execution_count": 109,
   "id": "10764e77-4a32-4614-b0d7-b597f7971574",
   "metadata": {},
   "outputs": [
    {
     "data": {
      "text/plain": [
       "<Axes: xlabel='Discount', ylabel='Profit'>"
      ]
     },
     "execution_count": 109,
     "metadata": {},
     "output_type": "execute_result"
    },
    {
     "data": {
      "image/png": "[encoded data removed]",
      "text/plain": [
       "<Figure size 700x500 with 1 Axes>"
      ]
     },
     "metadata": {},
     "output_type": "display_data"
    }
   ],
   "source": [
    "sns.set_theme(style=\"darkgrid\")\n",
    "plt.figure(figsize=(7, 5))\n",
    "sns.regplot(data=df, x = 'Discount', y = 'Profit' , scatter_kws={'alpha': 0.4, 's': 20}, line_kws={'color': 'red','linewidth': 2})\n"
   ]
  },
  {
   "cell_type": "code",
   "execution_count": null,
   "id": "d7702aae-7827-4254-b1df-29438a939024",
   "metadata": {},
   "outputs": [],
   "source": []
  }
 ],
 "metadata": {
  "kernelspec": {
   "display_name": "Python 3 (ipykernel)",
   "language": "python",
   "name": "python3"
  },
  "language_info": {
   "codemirror_mode": {
    "name": "ipython",
    "version": 3
   },
   "file_extension": ".py",
   "mimetype": "text/x-python",
   "name": "python",
   "nbconvert_exporter": "python",
   "pygments_lexer": "ipython3",
   "version": "3.10.12"
  }
 },
 "nbformat": 4,
 "nbformat_minor": 5
}
